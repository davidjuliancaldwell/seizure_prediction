{
 "cells": [
  {
   "cell_type": "code",
   "execution_count": 1,
   "metadata": {},
   "outputs": [
    {
     "name": "stdout",
     "output_type": "stream",
     "text": [
      "Populating the interactive namespace from numpy and matplotlib\n"
     ]
    }
   ],
   "source": [
    "%matplotlib inline\n",
    "%pylab inline"
   ]
  },
  {
   "cell_type": "code",
   "execution_count": 2,
   "metadata": {
    "collapsed": true
   },
   "outputs": [],
   "source": [
    "import numpy as np\n",
    "import matplotlib.pyplot as plt\n",
    "import h5py\n",
    "import mne\n",
    "import os\n",
    "import seaborn as sns\n",
    "\n",
    "from environment_info import *\n",
    "from patient_info import *\n",
    "#import environment_info\n",
    "\n",
    "# now we have data_dir, scripts_dir, and root_dir\n",
    "\n",
    "sns.set()"
   ]
  },
  {
   "cell_type": "code",
   "execution_count": 3,
   "metadata": {
    "collapsed": true
   },
   "outputs": [],
   "source": [
    "def conv_montage(file):\n",
    "    montage_array = (''.join([chr(i) for i in file['Montage']['MontageString']])).split(' ')\n",
    "    return montage_array\n",
    "\n",
    "def get_num_chans(file):\n",
    "    num_chans = int(np.sum(list(file['Montage']['Montage'])))\n",
    "    return num_chans\n",
    "    "
   ]
  },
  {
   "cell_type": "code",
   "execution_count": 4,
   "metadata": {
    "collapsed": true
   },
   "outputs": [],
   "source": [
    "# define path of interest for a particular patient\n",
    "path_int = os.path.join(data_dir,patient_names[1]+data_file_suffix)\n",
    "\n",
    "# load in the file\n",
    "f = h5py.File(path_int,'r')\n"
   ]
  },
  {
   "cell_type": "code",
   "execution_count": 5,
   "metadata": {
    "collapsed": true
   },
   "outputs": [],
   "source": [
    "# generate a random sequence for the number of channels \n",
    "\n",
    "# get the number of channels\n",
    "num_chans = get_num_chans(f)\n",
    "\n",
    "# generate a random sequence\n",
    "random_seq = np.random.permutation(num_chans)\n",
    "\n",
    "# get the montage\n",
    "montage = conv_montage(f)\n"
   ]
  },
  {
   "cell_type": "markdown",
   "metadata": {},
   "source": [
    "### power"
   ]
  },
  {
   "cell_type": "code",
   "execution_count": 6,
   "metadata": {
    "collapsed": true
   },
   "outputs": [],
   "source": [
    "labels_data = list(f['power'].keys())\n",
    "freq_names = list(f['power'][labels_data[0]])\n",
    "freq_names\n",
    "power_trials = np.squeeze(np.array([[f['power'][interest][interest_freq] for interest_freq in  f['power'][interest]] for interest in labels_data]))"
   ]
  },
  {
   "cell_type": "code",
   "execution_count": 75,
   "metadata": {},
   "outputs": [
    {
     "data": {
      "text/plain": [
       "<HDF5 dataset \"HG\": shape (82, 1), type \"<f8\">"
      ]
     },
     "execution_count": 75,
     "metadata": {},
     "output_type": "execute_result"
    }
   ],
   "source": [
    "f['power'][labels_data[0]][freq_names[0]]"
   ]
  },
  {
   "cell_type": "code",
   "execution_count": 26,
   "metadata": {},
   "outputs": [
    {
     "data": {
      "text/plain": [
       "(3, 12, 82)"
      ]
     },
     "execution_count": 26,
     "metadata": {},
     "output_type": "execute_result"
    }
   ],
   "source": [
    "power_trials.shape"
   ]
  },
  {
   "cell_type": "markdown",
   "metadata": {},
   "source": [
    "### connectivity"
   ]
  },
  {
   "cell_type": "code",
   "execution_count": 83,
   "metadata": {},
   "outputs": [],
   "source": [
    "labels_data = list(f['connectivity'].keys())\n",
    "connectivity_names = list(f['connectivity'][labels_data[0]].keys())\n",
    "freq_names = list(f['connectivity'][labels_data[0]][connectivity_names[0]].keys())\n",
    "\n",
    "connectivity_trials = np.squeeze(np.array([[[np.array([f['connectivity'][interest][interest_con][interest_meas]]) for interest_meas in f['connectivity'][interest][interest_con]] for interest_con in  f['connectivity'][interest]] for interest in labels_data]))"
   ]
  },
  {
   "cell_type": "code",
   "execution_count": 84,
   "metadata": {},
   "outputs": [
    {
     "data": {
      "text/plain": [
       "<HDF5 dataset \"HG\": shape (82, 82), type \"<f8\">"
      ]
     },
     "execution_count": 84,
     "metadata": {},
     "output_type": "execute_result"
    }
   ],
   "source": [
    "f['connectivity'][labels_data[0]][connectivity_names[0]][freq_names[0]]"
   ]
  },
  {
   "cell_type": "code",
   "execution_count": 85,
   "metadata": {},
   "outputs": [
    {
     "data": {
      "text/plain": [
       "['HG',\n",
       " 'HGstd',\n",
       " 'alpha',\n",
       " 'alphastd',\n",
       " 'beta',\n",
       " 'betastd',\n",
       " 'delta',\n",
       " 'deltastd',\n",
       " 'gamma',\n",
       " 'gammastd',\n",
       " 'theta',\n",
       " 'thetastd']"
      ]
     },
     "execution_count": 85,
     "metadata": {},
     "output_type": "execute_result"
    }
   ],
   "source": [
    "connectivity_names\n",
    "freq_names"
   ]
  },
  {
   "cell_type": "code",
   "execution_count": 93,
   "metadata": {},
   "outputs": [
    {
     "ename": "AttributeError",
     "evalue": "'list' object has no attribute 'shape'",
     "output_type": "error",
     "traceback": [
      "\u001b[1;31m---------------------------------------------------------------------------\u001b[0m",
      "\u001b[1;31mAttributeError\u001b[0m                            Traceback (most recent call last)",
      "\u001b[1;32m<ipython-input-93-28ed9c49f381>\u001b[0m in \u001b[0;36m<module>\u001b[1;34m()\u001b[0m\n\u001b[1;32m----> 1\u001b[1;33m \u001b[0mconnectivity_trials\u001b[0m\u001b[1;33m[\u001b[0m\u001b[1;36m0\u001b[0m\u001b[1;33m]\u001b[0m\u001b[1;33m[\u001b[0m\u001b[1;36m0\u001b[0m\u001b[1;33m]\u001b[0m\u001b[1;33m.\u001b[0m\u001b[0mshape\u001b[0m\u001b[1;33m\u001b[0m\u001b[0m\n\u001b[0m",
      "\u001b[1;31mAttributeError\u001b[0m: 'list' object has no attribute 'shape'"
     ]
    }
   ],
   "source": [
    "connectivity_trials[0][0].shape"
   ]
  },
  {
   "cell_type": "code",
   "execution_count": 87,
   "metadata": {},
   "outputs": [
    {
     "data": {
      "text/plain": [
       "['corrs', 'plv', 'psi']"
      ]
     },
     "execution_count": 87,
     "metadata": {},
     "output_type": "execute_result"
    }
   ],
   "source": [
    "labels_data\n",
    "connectivity_names"
   ]
  },
  {
   "cell_type": "markdown",
   "metadata": {},
   "source": [
    "### raw signal"
   ]
  },
  {
   "cell_type": "code",
   "execution_count": 44,
   "metadata": {
    "collapsed": true
   },
   "outputs": [],
   "source": [
    "labels_data = list(f['data'].keys())\n",
    "signal_mat = np.array([f['data'][interest][:] for interest in labels_data])"
   ]
  },
  {
   "cell_type": "code",
   "execution_count": 45,
   "metadata": {
    "scrolled": true
   },
   "outputs": [
    {
     "data": {
      "text/plain": [
       "(3, 82, 312000)"
      ]
     },
     "execution_count": 45,
     "metadata": {},
     "output_type": "execute_result"
    }
   ],
   "source": [
    "signal_mat.shape"
   ]
  },
  {
   "cell_type": "code",
   "execution_count": 56,
   "metadata": {},
   "outputs": [
    {
     "data": {
      "text/plain": [
       "[<matplotlib.lines.Line2D at 0x182bb611208>]"
      ]
     },
     "execution_count": 56,
     "metadata": {},
     "output_type": "execute_result"
    },
    {
     "data": {
      "image/png": "[encoded data removed]",
      "text/plain": [
       "<matplotlib.figure.Figure at 0x182bb561cf8>"
      ]
     },
     "metadata": {},
     "output_type": "display_data"
    }
   ],
   "source": [
    "plt.figure()\n",
    "trial = 1\n",
    "channel = 60\n",
    "\n",
    "plt.plot(np.squeeze(signal_mat[trial][channel][50000:54000]))\n",
    "plt.plot(np.squeeze(signal_mat[trial][channel+1][50000:54000]))\n",
    "plt.plot(np.squeeze(signal_mat[trial][channel+3][50000:54000]))\n",
    "plt.plot(np.squeeze(signal_mat[trial][channel+5][50000:54000]))\n",
    "plt.plot(np.squeeze(signal_mat[trial][channel+10][50000:54000]))"
   ]
  },
  {
   "cell_type": "code",
   "execution_count": 47,
   "metadata": {
    "collapsed": true
   },
   "outputs": [],
   "source": [
    "#https://github.com/emanuele/convert_matlab73_hdf5"
   ]
  },
  {
   "cell_type": "code",
   "execution_count": null,
   "metadata": {
    "collapsed": true
   },
   "outputs": [],
   "source": []
  }
 ],
 "metadata": {
  "kernelspec": {
   "display_name": "Python 3",
   "language": "python",
   "name": "python3"
  },
  "language_info": {
   "codemirror_mode": {
    "name": "ipython",
    "version": 3
   },
   "file_extension": ".py",
   "mimetype": "text/x-python",
   "name": "python",
   "nbconvert_exporter": "python",
   "pygments_lexer": "ipython3",
   "version": "3.6.1"
  }
 },
 "nbformat": 4,
 "nbformat_minor": 2
}
