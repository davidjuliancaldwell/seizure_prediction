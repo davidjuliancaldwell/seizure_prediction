{
 "cells": [
  {
   "cell_type": "code",
   "execution_count": null,
   "metadata": {
    "collapsed": false
   },
   "outputs": [],
   "source": [
    "%matplotlib inline"
   ]
  },
  {
   "cell_type": "markdown",
   "metadata": {},
   "source": [
    "\n",
    "====================================================\n",
    "How to convert 3D electrode positions to a 2D image.\n",
    "====================================================\n",
    "\n",
    "Sometimes we want to convert a 3D representation of electrodes into a 2D\n",
    "image. For example, if we are using electrocorticography it is common to\n",
    "create scatterplots on top of a brain, with each point representing an\n",
    "electrode.\n",
    "\n",
    "In this example, we'll show two ways of doing this in MNE-Python. First,\n",
    "if we have the 3D locations of each electrode then we can use Mayavi to\n",
    "take a snapshot of a view of the brain. If we do not have these 3D locations,\n",
    "and only have a 2D image of the electrodes on the brain, we can use the\n",
    ":class:`mne.viz.ClickableImage` class to choose our own electrode positions\n",
    "on the image.\n",
    "\n"
   ]
  },
  {
   "cell_type": "code",
   "execution_count": null,
   "metadata": {
    "collapsed": false
   },
   "outputs": [],
   "source": [
    "# Authors: Christopher Holdgraf <choldgraf@berkeley.edu>\n",
    "#\n",
    "# License: BSD (3-clause)\n",
    "from scipy.io import loadmat\n",
    "import numpy as np\n",
    "from mayavi import mlab\n",
    "from matplotlib import pyplot as plt\n",
    "from os import path as op\n",
    "\n",
    "#### djc addition\n",
    "import os\n",
    "import sys\n",
    "\n",
    "if sys.platform=='win32':\n",
    "    os.environ['QT_API'] = 'pyqt'\n",
    "    os.environ['ETS_TOOLKIT'] = 'qt4'\n",
    "######\n",
    "\n",
    "\n",
    "import mne\n",
    "from mne.viz import ClickableImage  # noqa\n",
    "from mne.viz import plot_alignment, snapshot_brain_montage\n",
    "\n",
    "\n",
    "print(__doc__)\n",
    "\n",
    "subjects_dir = mne.datasets.sample.data_path() + '/subjects'\n",
    "path_data = mne.datasets.misc.data_path() + '/ecog/sample_ecog.mat'\n",
    "\n",
    "# We've already clicked and exported\n",
    "layout_path = op.join(op.dirname(mne.__file__), 'data', 'image')\n",
    "layout_name = 'custom_layout.lout'"
   ]
  },
  {
   "cell_type": "markdown",
   "metadata": {},
   "source": [
    "Load data\n",
    "---------\n",
    "\n",
    "First we'll load a sample ECoG dataset which we'll use for generating\n",
    "a 2D snapshot.\n",
    "\n"
   ]
  },
  {
   "cell_type": "code",
   "execution_count": null,
   "metadata": {
    "collapsed": false
   },
   "outputs": [],
   "source": [
    "mat = loadmat(path_data)\n",
    "ch_names = mat['ch_names'].tolist()\n",
    "elec = mat['elec']\n",
    "dig_ch_pos = dict(zip(ch_names, elec))\n",
    "mon = mne.channels.DigMontage(dig_ch_pos=dig_ch_pos)\n",
    "info = mne.create_info(ch_names, 1000., 'ecog', montage=mon)\n",
    "print('Created %s channel positions' % len(ch_names))"
   ]
  },
  {
   "cell_type": "markdown",
   "metadata": {},
   "source": [
    "Project 3D electrodes to a 2D snapshot\n",
    "--------------------------------------\n",
    "\n",
    "Because we have the 3D location of each electrode, we can use the\n",
    ":func:`mne.viz.snapshot_brain_montage` function to return a 2D image along\n",
    "with the electrode positions on that image. We use this in conjunction with\n",
    ":func:`mne.viz.plot_alignment`, which visualizes electrode positions.\n",
    "\n"
   ]
  },
  {
   "cell_type": "code",
   "execution_count": null,
   "metadata": {
    "collapsed": false
   },
   "outputs": [],
   "source": [
    "fig = plot_alignment(info, subject='sample', subjects_dir=subjects_dir,\n",
    "                     surfaces=['pial'], meg=False)\n",
    "mlab.view(200, 70)\n",
    "xy, im = snapshot_brain_montage(fig, mon)\n",
    "\n",
    "# Convert from a dictionary to array to plot\n",
    "xy_pts = np.vstack(xy[ch] for ch in info['ch_names'])\n",
    "\n",
    "# Define an arbitrary \"activity\" pattern for viz\n",
    "activity = np.linspace(100, 200, xy_pts.shape[0])\n",
    "\n",
    "# This allows us to use matplotlib to create arbitrary 2d scatterplots\n",
    "fig2, ax = plt.subplots(figsize=(10, 10))\n",
    "ax.imshow(im)\n",
    "ax.scatter(*xy_pts.T, c=activity, s=200, cmap='coolwarm')\n",
    "ax.set_axis_off()\n",
    "# fig2.savefig('./brain.png', bbox_inches='tight')  # For ClickableImage"
   ]
  },
  {
   "cell_type": "markdown",
   "metadata": {},
   "source": [
    "Manually creating 2D electrode positions\n",
    "----------------------------------------\n",
    "\n",
    "If we don't have the 3D electrode positions then we can still create a\n",
    "2D representation of the electrodes. Assuming that you can see the electrodes\n",
    "on the 2D image, we can use :class:`mne.viz.ClickableImage` to open the image\n",
    "interactively. You can click points on the image and the x/y coordinate will\n",
    "be stored.\n",
    "\n",
    "We'll open an image file, then use ClickableImage to\n",
    "return 2D locations of mouse clicks (or load a file already created).\n",
    "Then, we'll return these xy positions as a layout for use with plotting topo\n",
    "maps.\n",
    "\n"
   ]
  },
  {
   "cell_type": "code",
   "execution_count": null,
   "metadata": {
    "collapsed": false
   },
   "outputs": [],
   "source": [
    "# This code opens the image so you can click on it. Commented out\n",
    "# because we've stored the clicks as a layout file already.\n",
    "\n",
    "# # The click coordinates are stored as a list of tuples\n",
    "# im = plt.imread('./brain.png')\n",
    "# click = ClickableImage(im)\n",
    "# click.plot_clicks()\n",
    "\n",
    "# # Generate a layout from our clicks and normalize by the image\n",
    "# print('Generating and saving layout...')\n",
    "# lt = click.to_layout()\n",
    "# lt.save(op.join(layout_path, layout_name))  # To save if we want\n",
    "\n",
    "# # We've already got the layout, load it\n",
    "lt = mne.channels.read_layout(layout_name, path=layout_path, scale=False)\n",
    "x = lt.pos[:, 0] * float(im.shape[1])\n",
    "y = (1 - lt.pos[:, 1]) * float(im.shape[0])  # Flip the y-position\n",
    "fig, ax = plt.subplots()\n",
    "ax.imshow(im)\n",
    "ax.scatter(x, y, s=120, color='r')\n",
    "plt.autoscale(tight=True)\n",
    "ax.set_axis_off()\n",
    "plt.show()"
   ]
  }
 ],
 "metadata": {
  "kernelspec": {
   "display_name": "Python 2",
   "language": "python",
   "name": "python2"
  },
  "language_info": {
   "codemirror_mode": {
    "name": "ipython",
    "version": 2
   },
   "file_extension": ".py",
   "mimetype": "text/x-python",
   "name": "python",
   "nbconvert_exporter": "python",
   "pygments_lexer": "ipython2",
   "version": "2.7.14"
  }
 },
 "nbformat": 4,
 "nbformat_minor": 2
}
