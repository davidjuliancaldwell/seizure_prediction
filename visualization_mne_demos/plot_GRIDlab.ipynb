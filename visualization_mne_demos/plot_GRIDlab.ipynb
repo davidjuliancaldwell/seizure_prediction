{
 "cells": [
  {
   "cell_type": "code",
   "execution_count": null,
   "metadata": {
    "collapsed": true
   },
   "outputs": [],
   "source": [
    "%matplotlib inline\n",
    "%pylab inline"
   ]
  },
  {
   "cell_type": "code",
   "execution_count": 6,
   "metadata": {},
   "outputs": [],
   "source": [
    "import numpy as np\n",
    "import matplotlib.pyplot as plt\n",
    "import mne\n",
    "from mayavi import mlab\n",
    "import environment_info\n",
    "\n",
    "print(__doc__)\n",
    "\n",
    "mlab.init_notebook()\n"
   ]
  },
  {
   "cell_type": "code",
   "execution_count": 5,
   "metadata": {},
   "outputs": [
    {
     "ename": "NameError",
     "evalue": "name 'data_dir' is not defined",
     "output_type": "error",
     "traceback": [
      "\u001b[1;31m---------------------------------------------------------------------------\u001b[0m",
      "\u001b[1;31mNameError\u001b[0m                                 Traceback (most recent call last)",
      "\u001b[1;32m<ipython-input-5-37caba7da1a0>\u001b[0m in \u001b[0;36m<module>\u001b[1;34m()\u001b[0m\n\u001b[1;32m----> 1\u001b[1;33m \u001b[0mdata_dir\u001b[0m\u001b[1;33m\u001b[0m\u001b[0m\n\u001b[0m",
      "\u001b[1;31mNameError\u001b[0m: name 'data_dir' is not defined"
     ]
    }
   ],
   "source": [
    "data_dir "
   ]
  },
  {
   "cell_type": "code",
   "execution_count": null,
   "metadata": {
    "collapsed": true
   },
   "outputs": [],
   "source": [
    "def _create_mesh_surf(surf, fig=None, scalars=None):\n",
    "    \"\"\"Create Mayavi mesh from MNE surf.\"\"\"\n",
    "    mlab = _import_mlab()\n",
    "    nn = surf['nn'].copy()\n",
    "    # make absolutely sure these are normalized for Mayavi\n",
    "    norm = np.sum(nn * nn, axis=1)\n",
    "    mask = norm > 0\n",
    "    nn[mask] /= norm[mask][:, np.newaxis]\n",
    "    x, y, z = surf['rr'].T\n",
    "    with warnings.catch_warnings(record=True):  # traits\n",
    "        mesh = mlab.pipeline.triangular_mesh_source(\n",
    "            x, y, z, surf['tris'], scalars=scalars, figure=fig)\n",
    "    mesh.data.point_data.normals = nn\n",
    "    mesh.data.cell_data.normals = None\n",
    "    mesh.update()"
   ]
  }
 ],
 "metadata": {
  "kernelspec": {
   "display_name": "Python 3",
   "language": "python",
   "name": "python3"
  },
  "language_info": {
   "codemirror_mode": {
    "name": "ipython",
    "version": 3
   },
   "file_extension": ".py",
   "mimetype": "text/x-python",
   "name": "python",
   "nbconvert_exporter": "python",
   "pygments_lexer": "ipython3",
   "version": "3.6.1"
  }
 },
 "nbformat": 4,
 "nbformat_minor": 2
}
