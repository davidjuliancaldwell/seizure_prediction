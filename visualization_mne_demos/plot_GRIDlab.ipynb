{
 "cells": [
  {
   "cell_type": "code",
   "execution_count": 1,
   "metadata": {},
   "outputs": [
    {
     "name": "stdout",
     "output_type": "stream",
     "text": [
      "Populating the interactive namespace from numpy and matplotlib\n"
     ]
    }
   ],
   "source": [
    "%matplotlib inline\n",
    "%pylab inline"
   ]
  },
  {
   "cell_type": "code",
   "execution_count": 1,
   "metadata": {},
   "outputs": [],
   "source": [
    "import numpy as np\n",
    "import matplotlib.pyplot as plt\n",
    "import mne\n",
    "import scipy.io as sio\n",
    "from mayavi import mlab\n",
    "from mayavi import tools\n",
    "\n",
    "print(__doc__)\n",
    "\n",
    "mlab.init_notebook()\n"
   ]
  },
  {
   "cell_type": "code",
   "execution_count": 10,
   "metadata": {},
   "outputs": [],
   "source": [
    "data = sio.loadmat(r'C:\\Users\\djcald.CSENETID\\Data\\Subjects\\0b5a2e\\surf\\0b5a2e_cortex_both_hires')\n",
    "\n",
    "triangles = data['cortex'][0][0][1]\n",
    "\n",
    "triangles.shape\n",
    "\n",
    "surf = data['cortex'][0][0][0]\n",
    "\n",
    "data['cortex']['normals'][0][0].shape\n",
    "\n",
    "facevertexcdata = data['cortex']['facevertexcdata'][0][0]\n",
    "\n",
    "vertexnormals = data['cortex']['vertexnormals'][0][0]\n",
    "\n",
    "vertices = data['cortex']['vertices'][0][0]\n",
    "\n",
    "faces = data['cortex']['faces'][0][0]\n",
    "\n",
    "vertexnormals.shape\n",
    "\n",
    "vertices.shape\n",
    "\n",
    "faces.shape\n",
    "\n",
    "data['cortex']\n",
    "\n",
    "def create_mesh_surf(surf, triangles, vertexnormals,fig=None, scalars=None):\n",
    "    \"\"\"Create Mayavi mesh from MNE surf.\"\"\"\n",
    "    nn = vertexnormals\n",
    "    # make absolutely sure these are normalized for Mayavi\n",
    "    norm = np.sum(nn * nn, axis=1)\n",
    "    mask = norm > 0\n",
    "    nn[mask] /= norm[mask][:, np.newaxis]\n",
    "    x, y, z = surf.T\n",
    "    with warnings.catch_warnings(record=True):  # traits\n",
    "        mesh = mlab.pipeline.triangular_mesh_source(\n",
    "            x, y, z, triangles, scalars=scalars, figure=fig)\n",
    "    mesh.data.point_data.normals = nn\n",
    "    mesh.data.cell_data.normals = None\n",
    "    mesh.update()\n",
    "\n",
    "\n",
    "\n",
    "#from mayavi import mlab\n",
    "#mlab.init_notebook()\n",
    "\n",
    "fig = mlab.figure()\n",
    "\n",
    "mesh = create_mesh_surf(faces,triangles,vertexnormals,fig=fig)\n",
    "fsurf = mlab.pipeline.surface(mesh,fig)\n",
    "\n"
   ]
  },
  {
   "cell_type": "code",
   "execution_count": 125,
   "metadata": {
    "scrolled": true
   },
   "outputs": [
    {
     "ename": "AttributeError",
     "evalue": "'NoneType' object has no attribute 'replace'",
     "output_type": "error",
     "traceback": [
      "\u001b[1;31m---------------------------------------------------------------------------\u001b[0m",
      "\u001b[1;31mAttributeError\u001b[0m                            Traceback (most recent call last)",
      "\u001b[1;32m~\\AppData\\Local\\Continuum\\anaconda3\\envs\\mne\\lib\\site-packages\\IPython\\core\\formatters.py\u001b[0m in \u001b[0;36m__call__\u001b[1;34m(self, obj)\u001b[0m\n\u001b[0;32m    343\u001b[0m             \u001b[0mmethod\u001b[0m \u001b[1;33m=\u001b[0m \u001b[0mget_real_method\u001b[0m\u001b[1;33m(\u001b[0m\u001b[0mobj\u001b[0m\u001b[1;33m,\u001b[0m \u001b[0mself\u001b[0m\u001b[1;33m.\u001b[0m\u001b[0mprint_method\u001b[0m\u001b[1;33m)\u001b[0m\u001b[1;33m\u001b[0m\u001b[0m\n\u001b[0;32m    344\u001b[0m             \u001b[1;32mif\u001b[0m \u001b[0mmethod\u001b[0m \u001b[1;32mis\u001b[0m \u001b[1;32mnot\u001b[0m \u001b[1;32mNone\u001b[0m\u001b[1;33m:\u001b[0m\u001b[1;33m\u001b[0m\u001b[0m\n\u001b[1;32m--> 345\u001b[1;33m                 \u001b[1;32mreturn\u001b[0m \u001b[0mmethod\u001b[0m\u001b[1;33m(\u001b[0m\u001b[1;33m)\u001b[0m\u001b[1;33m\u001b[0m\u001b[0m\n\u001b[0m\u001b[0;32m    346\u001b[0m             \u001b[1;32mreturn\u001b[0m \u001b[1;32mNone\u001b[0m\u001b[1;33m\u001b[0m\u001b[0m\n\u001b[0;32m    347\u001b[0m         \u001b[1;32melse\u001b[0m\u001b[1;33m:\u001b[0m\u001b[1;33m\u001b[0m\u001b[0m\n",
      "\u001b[1;32m~\\AppData\\Local\\Continuum\\anaconda3\\envs\\mne\\lib\\site-packages\\mayavi\\tools\\notebook.py\u001b[0m in \u001b[0;36m_repr_html_\u001b[1;34m(self)\u001b[0m\n\u001b[0;32m     58\u001b[0m         \u001b[1;32mreturn\u001b[0m \u001b[0mscene_to_png\u001b[0m\u001b[1;33m(\u001b[0m\u001b[0mscene\u001b[0m\u001b[1;33m)\u001b[0m\u001b[1;33m\u001b[0m\u001b[0m\n\u001b[0;32m     59\u001b[0m     \u001b[1;32melif\u001b[0m \u001b[0m_backend\u001b[0m \u001b[1;33m==\u001b[0m \u001b[1;34m'x3d'\u001b[0m\u001b[1;33m:\u001b[0m\u001b[1;33m\u001b[0m\u001b[0m\n\u001b[1;32m---> 60\u001b[1;33m         \u001b[1;32mreturn\u001b[0m \u001b[0mscene_to_x3d\u001b[0m\u001b[1;33m(\u001b[0m\u001b[0mscene\u001b[0m\u001b[1;33m)\u001b[0m\u001b[1;33m\u001b[0m\u001b[0m\n\u001b[0m\u001b[0;32m     61\u001b[0m \u001b[1;33m\u001b[0m\u001b[0m\n\u001b[0;32m     62\u001b[0m \u001b[1;33m\u001b[0m\u001b[0m\n",
      "\u001b[1;32m~\\AppData\\Local\\Continuum\\anaconda3\\envs\\mne\\lib\\site-packages\\mayavi\\tools\\notebook.py\u001b[0m in \u001b[0;36mscene_to_x3d\u001b[1;34m(scene)\u001b[0m\n\u001b[0;32m     91\u001b[0m     \u001b[1;32melse\u001b[0m\u001b[1;33m:\u001b[0m\u001b[1;33m\u001b[0m\u001b[0m\n\u001b[0;32m     92\u001b[0m         \u001b[0murl_base\u001b[0m \u001b[1;33m=\u001b[0m \u001b[1;34m\"https://www.x3dom.org/download/1.7.2\"\u001b[0m\u001b[1;33m\u001b[0m\u001b[0m\n\u001b[1;32m---> 93\u001b[1;33m     \u001b[0mx3d_elem\u001b[0m \u001b[1;33m=\u001b[0m \u001b[0m_fix_x3d_header\u001b[0m\u001b[1;33m(\u001b[0m\u001b[0mex\u001b[0m\u001b[1;33m.\u001b[0m\u001b[0moutput_string\u001b[0m\u001b[1;33m)\u001b[0m\u001b[1;33m\u001b[0m\u001b[0m\n\u001b[0m\u001b[0;32m     94\u001b[0m     html = '''\n\u001b[0;32m     95\u001b[0m     \u001b[1;33m%\u001b[0m\u001b[0ms\u001b[0m\u001b[1;33m\u001b[0m\u001b[0m\n",
      "\u001b[1;32m~\\AppData\\Local\\Continuum\\anaconda3\\envs\\mne\\lib\\site-packages\\mayavi\\tools\\notebook.py\u001b[0m in \u001b[0;36m_fix_x3d_header\u001b[1;34m(x3d)\u001b[0m\n\u001b[0;32m     70\u001b[0m     \u001b[0mrep\u001b[0m \u001b[1;33m+=\u001b[0m \u001b[1;34m'>'\u001b[0m\u001b[1;33m\u001b[0m\u001b[0m\n\u001b[0;32m     71\u001b[0m \u001b[1;33m\u001b[0m\u001b[0m\n\u001b[1;32m---> 72\u001b[1;33m     x3d = x3d.replace(\n\u001b[0m\u001b[0;32m     73\u001b[0m         \u001b[1;34m'<X3D profile=\"Immersive\" version=\"3.0\">'\u001b[0m\u001b[1;33m,\u001b[0m\u001b[1;33m\u001b[0m\u001b[0m\n\u001b[0;32m     74\u001b[0m         \u001b[0mrep\u001b[0m\u001b[1;33m\u001b[0m\u001b[0m\n",
      "\u001b[1;31mAttributeError\u001b[0m: 'NoneType' object has no attribute 'replace'"
     ]
    },
    {
     "data": {
      "text/plain": [
       "<mayavi.sources.vtk_data_source.VTKDataSource at 0x209c3fe50f8>"
      ]
     },
     "execution_count": 125,
     "metadata": {},
     "output_type": "execute_result"
    }
   ],
   "source": [
    "x,y,z = faces.T\n",
    "figure = tools.pipeline.triangular_mesh_source(x, y, z, triangles)\n",
    "figure"
   ]
  },
  {
   "cell_type": "code",
   "execution_count": null,
   "metadata": {},
   "outputs": [],
   "source": []
  }
 ],
 "metadata": {
  "kernelspec": {
   "display_name": "mne",
   "language": "python",
   "name": "mne"
  },
  "language_info": {
   "codemirror_mode": {
    "name": "ipython",
    "version": 3
   },
   "file_extension": ".py",
   "mimetype": "text/x-python",
   "name": "python",
   "nbconvert_exporter": "python",
   "pygments_lexer": "ipython3",
   "version": "3.6.3"
  }
 },
 "nbformat": 4,
 "nbformat_minor": 2
}
