{
 "cells": [
  {
   "cell_type": "code",
   "execution_count": 1,
   "metadata": {},
   "outputs": [
    {
     "name": "stdout",
     "output_type": "stream",
     "text": [
      "Populating the interactive namespace from numpy and matplotlib\n"
     ]
    }
   ],
   "source": [
    "%matplotlib inline\n",
    "%pylab inline"
   ]
  },
  {
   "cell_type": "code",
   "execution_count": 3,
   "metadata": {
    "collapsed": true
   },
   "outputs": [],
   "source": [
    "import numpy as np\n",
    "import matplotlib.pyplot as plt\n",
    "import h5py\n",
    "#import mne\n",
    "import os\n",
    "import seaborn as sns\n",
    "import copy\n",
    "from sklearn.linear_model import LogisticRegression\n",
    "from sklearn import svm\n",
    "\n",
    "from environment_info import *\n",
    "from patient_info import *\n",
    "#import environment_info\n",
    "\n",
    "# now we have data_dir, scripts_dir, and root_dir\n",
    "\n",
    "sns.set()"
   ]
  },
  {
   "cell_type": "code",
   "execution_count": 4,
   "metadata": {
    "collapsed": true
   },
   "outputs": [],
   "source": [
    "def conv_montage(file):\n",
    "    montage_array = (''.join([chr(i) for i in file['Montage']['MontageString']])).split(' ')\n",
    "    return montage_array\n",
    "\n",
    "def get_num_chans(file):\n",
    "    num_chans = int(np.sum(list(file['Montage']['Montage'])))\n",
    "    return num_chans\n",
    "\n",
    "def convert_power_data(f,num_chans):\n",
    "    labels_data = list(f['power'])\n",
    "    freq_names = list(f['power'][labels_data[0]])\n",
    "    power_feat_names = freq_names\n",
    "    power_trials = np.squeeze(([[f['power'][interest][interest_freq][0:num_chans] for interest_freq in  f['power'][interest]] for interest in labels_data]))\n",
    "    return power_trials, power_feat_names\n",
    "    \n",
    "def convert_connectivity_data(file,num_chans):\n",
    "    labels_data = list(f['connectivity'])\n",
    "    connectivity_names = list(f['connectivity'][labels_data[0]])\n",
    "    freq_names = list(f['connectivity'][labels_data[0]][connectivity_names[0]])\n",
    "\n",
    "    corr_feat_name = list(f['connectivity'][labels_data[0]][connectivity_names[0]])\n",
    "    plv_feat_name = list(f['connectivity'][labels_data[0]][connectivity_names[1]])\n",
    "    psi_feat_name = list(f['connectivity'][labels_data[0]][connectivity_names[2]])\n",
    "\n",
    "    connectivity_trials_corr = np.squeeze([[[f['connectivity'][interest]['corrs'][interest_meas][0:num_chans,0:num_chans]] for interest_meas in f['connectivity'][interest]['corrs']] for interest in labels_data])\n",
    "    connectivity_trials_plv = np.squeeze([[[f['connectivity'][interest]['corrs'][interest_meas][0:num_chans,0:num_chans]] for interest_meas in f['connectivity'][interest]['plv']] for interest in labels_data])\n",
    "    connectivity_trials_psi = np.squeeze([[[f['connectivity'][interest]['psi'][interest_meas][0:num_chans,0:num_chans]] for interest_meas in f['connectivity'][interest]['psi']] for interest in labels_data])\n",
    "\n",
    "    return connectivity_trials_corr, corr_feat_name, connectivity_trials_plv, plv_feat_name, connectivity_trials_psi, psi_feat_name\n",
    "\n",
    "def one_hot_encode(electrodes,num_chans):\n",
    "    \n",
    "    one_hot_vec = np.zeros((num_chans,1))\n",
    "    one_hot_vec[electrodes] = 1\n",
    "    one_hot_vec[one_hot_vec==0] = -1 \n",
    "    \n",
    "    return one_hot_vec"
   ]
  },
  {
   "cell_type": "code",
   "execution_count": 56,
   "metadata": {},
   "outputs": [
    {
     "name": "stdout",
     "output_type": "stream",
     "text": [
      "(240, 12)\n",
      "(240, 12)\n",
      "(240,)\n",
      "(240,)\n",
      "\n",
      "\n",
      "(480, 12)\n",
      "(192, 12)\n",
      "(480,)\n",
      "(192,)\n",
      "\n",
      "\n",
      "(672, 12)\n",
      "(192, 12)\n",
      "(672,)\n",
      "(192,)\n",
      "\n",
      "\n",
      "(864, 12)\n",
      "(378, 12)\n",
      "(864,)\n",
      "(378,)\n",
      "\n",
      "\n",
      "(1242, 12)\n",
      "(258, 12)\n",
      "(1242,)\n",
      "(258,)\n",
      "\n",
      "\n",
      "(1500, 12)\n",
      "(240, 12)\n",
      "(1500,)\n",
      "(240,)\n",
      "\n",
      "\n",
      "(1740, 12)\n",
      "(192, 12)\n",
      "(1740,)\n",
      "(192,)\n",
      "\n",
      "\n"
     ]
    }
   ],
   "source": [
    "# iterate over all patients\n",
    "\n",
    "\n",
    "\n",
    "for ind_int in np.arange(1,len(patient_names)):\n",
    "\n",
    "    path_int = os.path.join(data_dir,patient_names[ind_int]+data_file_suffix)\n",
    "\n",
    "    # load in the file\n",
    "    f = h5py.File(path_int,'r')\n",
    "\n",
    "    # patient name\n",
    "    patient_name = patient_names[ind_int]\n",
    "\n",
    "    # get the number of channels\n",
    "    num_chans = get_num_chans(f)\n",
    "\n",
    "    # account for 3 not complete montages \n",
    "    if patient_name in ['fca96e','78283a', '294e1c']:\n",
    "        num_chans = 64 \n",
    "\n",
    "    # seizure electrodes \n",
    "    seizure_elec = one_hot_encode(seizure_electrodes[ind_int],num_chans)\n",
    "\n",
    "    # generate a random sequence for the number of channels \n",
    "\n",
    "    num_blocks = len(f['connectivity'])\n",
    "\n",
    "    # generate a random sequence\n",
    "    num_windows_random = np.arange(num_blocks)\n",
    "    random_seq_arr = np.array([np.random.permutation(num_chans) for i in num_windows_random])\n",
    "\n",
    "    # randomly shuffle test labels\n",
    "    seizure_elec_shuff = np.repeat(seizure_elec,num_blocks,axis=1).T\n",
    "    seizure_elec_shuff = np.array([seizure_elec_shuff[i,random_seq_arr[i,:]] for i in np.arange(num_blocks)])\n",
    "    seizure_elec_shuff = np.squeeze(np.reshape(seizure_elec_shuff,(1,-1)))\n",
    "\n",
    "    \n",
    "    # get the montage\n",
    "    montage = conv_montage(f) \n",
    "\n",
    "    p_t,p_n = convert_power_data(f,num_chans)\n",
    "    c_corr_t,c_corr_n,c_plv_t,c_plv_n,c_psi_t,c_psi_n = convert_connectivity_data(f,num_chans)\n",
    "\n",
    "    p_t_t = np.transpose(p_t,(0,2,1))\n",
    "\n",
    "    random_seq_data = np.reshape(np.repeat(random_seq_arr,p_t_t.shape[2],axis=1),np.array(p_t_t.shape))\n",
    "\n",
    "    shuff_data = zeros((p_t_t.shape))\n",
    "\n",
    "    for i in np.arange(p_t_t.shape[0]):\n",
    "        shuff_data[i,:] = p_t_t[i,random_seq_arr[i]]\n",
    "        \n",
    "    if ind_int == 1:\n",
    "        shuff_data_all = shuff_data.reshape((shuff_data.shape[0]*shuff_data.shape[1],shuff_data.shape[2]))\n",
    "        seizure_elec_all = seizure_elec_shuff\n",
    "        \n",
    "    shuff_data = shuff_data.reshape((shuff_data.shape[0]*shuff_data.shape[1],shuff_data.shape[2]))\n",
    "\n",
    "    shuff_data_all = np.vstack((shuff_data_all,shuff_data))\n",
    "    seizure_elec_all = np.hstack((seizure_elec_all,seizure_elec_shuff))"
   ]
  },
  {
   "cell_type": "code",
   "execution_count": 65,
   "metadata": {
    "collapsed": true
   },
   "outputs": [],
   "source": [
    "n_leave = 192\n",
    "train_data = shuff_data_all[0:n_leave,:]\n",
    "test_data = shuff_data_all[n_leave:,:] \n",
    "train_labels = seizure_elec_all[0:n_leave]\n",
    "test_labels = seizure_elec_all[n_leave:]\n",
    "\n",
    "\n",
    "# demean the data \n",
    "train_data_average = np.repeat(np.array([(np.mean(train_data,axis=0))]).T,train_data.shape[0],axis=1).T\n",
    "test_data_average = np.repeat(np.array([(np.mean(train_data,axis=0))]).T,test_data.shape[0],axis=1).T\n",
    "\n",
    "train_data_std = np.repeat(np.array([(np.std(train_data,axis=0))]).T,train_data.shape[0],axis=1).T\n",
    "test_data_std = np.repeat(np.array([(np.std(train_data,axis=0))]).T,test_data.shape[0],axis=1).T\n",
    "\n",
    "# mean subtract and normalize \n",
    "train_data = (train_data - train_data_average)/train_data_std\n",
    "test_data = (test_data - test_data_average)/test_data_std"
   ]
  },
  {
   "cell_type": "code",
   "execution_count": 68,
   "metadata": {},
   "outputs": [
    {
     "name": "stdout",
     "output_type": "stream",
     "text": [
      "C=1.00\n",
      "Sparsity with L1 penalty: 33.33%\n",
      "train score with L1 penalty: 0.8542\n",
      "test score with L1 penalty: 0.7580\n",
      "C=1.00\n",
      "Sparsity with L2 penalty: 0.00%\n"
     ]
    },
    {
     "ename": "ValueError",
     "evalue": "Found input variables with inconsistent numbers of samples: [2, 128]",
     "output_type": "error",
     "traceback": [
      "\u001b[1;31m---------------------------------------------------------------------------\u001b[0m",
      "\u001b[1;31mValueError\u001b[0m                                Traceback (most recent call last)",
      "\u001b[1;32m<ipython-input-68-db566b48719c>\u001b[0m in \u001b[0;36m<module>\u001b[1;34m()\u001b[0m\n\u001b[0;32m     17\u001b[0m \u001b[0mprint\u001b[0m\u001b[1;33m(\u001b[0m\u001b[1;34m\"C=%.2f\"\u001b[0m \u001b[1;33m%\u001b[0m \u001b[0mnorm_val\u001b[0m\u001b[1;33m)\u001b[0m\u001b[1;33m\u001b[0m\u001b[0m\n\u001b[0;32m     18\u001b[0m \u001b[0mprint\u001b[0m\u001b[1;33m(\u001b[0m\u001b[1;34m\"Sparsity with L2 penalty: %.2f%%\"\u001b[0m \u001b[1;33m%\u001b[0m \u001b[0msparsity_LR_l2\u001b[0m\u001b[1;33m)\u001b[0m\u001b[1;33m\u001b[0m\u001b[0m\n\u001b[1;32m---> 19\u001b[1;33m \u001b[0mprint\u001b[0m\u001b[1;33m(\u001b[0m\u001b[1;34m\"train score with L2 penalty: %.4f\"\u001b[0m \u001b[1;33m%\u001b[0m \u001b[0mLR_mod_l2\u001b[0m\u001b[1;33m.\u001b[0m\u001b[0mscore\u001b[0m\u001b[1;33m(\u001b[0m\u001b[0mtrain_data_stack_average\u001b[0m\u001b[1;33m,\u001b[0m\u001b[0mtrain_labels_stack\u001b[0m\u001b[1;33m)\u001b[0m\u001b[1;33m)\u001b[0m\u001b[1;33m\u001b[0m\u001b[0m\n\u001b[0m\u001b[0;32m     20\u001b[0m \u001b[0mprint\u001b[0m\u001b[1;33m(\u001b[0m\u001b[1;34m\"test score with L1 penalty: %.4f\"\u001b[0m \u001b[1;33m%\u001b[0m \u001b[0mLR_mod_l1\u001b[0m\u001b[1;33m.\u001b[0m\u001b[0mscore\u001b[0m\u001b[1;33m(\u001b[0m\u001b[0mtest_data_stack_average\u001b[0m\u001b[1;33m,\u001b[0m\u001b[0mtest_labels_stack\u001b[0m\u001b[1;33m)\u001b[0m\u001b[1;33m)\u001b[0m\u001b[1;33m\u001b[0m\u001b[0m\n\u001b[0;32m     21\u001b[0m \u001b[1;33m\u001b[0m\u001b[0m\n",
      "\u001b[1;32m~\\Anaconda3\\envs\\mne\\lib\\site-packages\\sklearn\\base.py\u001b[0m in \u001b[0;36mscore\u001b[1;34m(self, X, y, sample_weight)\u001b[0m\n\u001b[0;32m    347\u001b[0m         \"\"\"\n\u001b[0;32m    348\u001b[0m         \u001b[1;32mfrom\u001b[0m \u001b[1;33m.\u001b[0m\u001b[0mmetrics\u001b[0m \u001b[1;32mimport\u001b[0m \u001b[0maccuracy_score\u001b[0m\u001b[1;33m\u001b[0m\u001b[0m\n\u001b[1;32m--> 349\u001b[1;33m         \u001b[1;32mreturn\u001b[0m \u001b[0maccuracy_score\u001b[0m\u001b[1;33m(\u001b[0m\u001b[0my\u001b[0m\u001b[1;33m,\u001b[0m \u001b[0mself\u001b[0m\u001b[1;33m.\u001b[0m\u001b[0mpredict\u001b[0m\u001b[1;33m(\u001b[0m\u001b[0mX\u001b[0m\u001b[1;33m)\u001b[0m\u001b[1;33m,\u001b[0m \u001b[0msample_weight\u001b[0m\u001b[1;33m=\u001b[0m\u001b[0msample_weight\u001b[0m\u001b[1;33m)\u001b[0m\u001b[1;33m\u001b[0m\u001b[0m\n\u001b[0m\u001b[0;32m    350\u001b[0m \u001b[1;33m\u001b[0m\u001b[0m\n\u001b[0;32m    351\u001b[0m \u001b[1;33m\u001b[0m\u001b[0m\n",
      "\u001b[1;32m~\\Anaconda3\\envs\\mne\\lib\\site-packages\\sklearn\\metrics\\classification.py\u001b[0m in \u001b[0;36maccuracy_score\u001b[1;34m(y_true, y_pred, normalize, sample_weight)\u001b[0m\n\u001b[0;32m    174\u001b[0m \u001b[1;33m\u001b[0m\u001b[0m\n\u001b[0;32m    175\u001b[0m     \u001b[1;31m# Compute accuracy for each possible representation\u001b[0m\u001b[1;33m\u001b[0m\u001b[1;33m\u001b[0m\u001b[0m\n\u001b[1;32m--> 176\u001b[1;33m     \u001b[0my_type\u001b[0m\u001b[1;33m,\u001b[0m \u001b[0my_true\u001b[0m\u001b[1;33m,\u001b[0m \u001b[0my_pred\u001b[0m \u001b[1;33m=\u001b[0m \u001b[0m_check_targets\u001b[0m\u001b[1;33m(\u001b[0m\u001b[0my_true\u001b[0m\u001b[1;33m,\u001b[0m \u001b[0my_pred\u001b[0m\u001b[1;33m)\u001b[0m\u001b[1;33m\u001b[0m\u001b[0m\n\u001b[0m\u001b[0;32m    177\u001b[0m     \u001b[1;32mif\u001b[0m \u001b[0my_type\u001b[0m\u001b[1;33m.\u001b[0m\u001b[0mstartswith\u001b[0m\u001b[1;33m(\u001b[0m\u001b[1;34m'multilabel'\u001b[0m\u001b[1;33m)\u001b[0m\u001b[1;33m:\u001b[0m\u001b[1;33m\u001b[0m\u001b[0m\n\u001b[0;32m    178\u001b[0m         \u001b[0mdiffering_labels\u001b[0m \u001b[1;33m=\u001b[0m \u001b[0mcount_nonzero\u001b[0m\u001b[1;33m(\u001b[0m\u001b[0my_true\u001b[0m \u001b[1;33m-\u001b[0m \u001b[0my_pred\u001b[0m\u001b[1;33m,\u001b[0m \u001b[0maxis\u001b[0m\u001b[1;33m=\u001b[0m\u001b[1;36m1\u001b[0m\u001b[1;33m)\u001b[0m\u001b[1;33m\u001b[0m\u001b[0m\n",
      "\u001b[1;32m~\\Anaconda3\\envs\\mne\\lib\\site-packages\\sklearn\\metrics\\classification.py\u001b[0m in \u001b[0;36m_check_targets\u001b[1;34m(y_true, y_pred)\u001b[0m\n\u001b[0;32m     69\u001b[0m     \u001b[0my_pred\u001b[0m \u001b[1;33m:\u001b[0m \u001b[0marray\u001b[0m \u001b[1;32mor\u001b[0m \u001b[0mindicator\u001b[0m \u001b[0mmatrix\u001b[0m\u001b[1;33m\u001b[0m\u001b[0m\n\u001b[0;32m     70\u001b[0m     \"\"\"\n\u001b[1;32m---> 71\u001b[1;33m     \u001b[0mcheck_consistent_length\u001b[0m\u001b[1;33m(\u001b[0m\u001b[0my_true\u001b[0m\u001b[1;33m,\u001b[0m \u001b[0my_pred\u001b[0m\u001b[1;33m)\u001b[0m\u001b[1;33m\u001b[0m\u001b[0m\n\u001b[0m\u001b[0;32m     72\u001b[0m     \u001b[0mtype_true\u001b[0m \u001b[1;33m=\u001b[0m \u001b[0mtype_of_target\u001b[0m\u001b[1;33m(\u001b[0m\u001b[0my_true\u001b[0m\u001b[1;33m)\u001b[0m\u001b[1;33m\u001b[0m\u001b[0m\n\u001b[0;32m     73\u001b[0m     \u001b[0mtype_pred\u001b[0m \u001b[1;33m=\u001b[0m \u001b[0mtype_of_target\u001b[0m\u001b[1;33m(\u001b[0m\u001b[0my_pred\u001b[0m\u001b[1;33m)\u001b[0m\u001b[1;33m\u001b[0m\u001b[0m\n",
      "\u001b[1;32m~\\Anaconda3\\envs\\mne\\lib\\site-packages\\sklearn\\utils\\validation.py\u001b[0m in \u001b[0;36mcheck_consistent_length\u001b[1;34m(*arrays)\u001b[0m\n\u001b[0;32m    202\u001b[0m     \u001b[1;32mif\u001b[0m \u001b[0mlen\u001b[0m\u001b[1;33m(\u001b[0m\u001b[0muniques\u001b[0m\u001b[1;33m)\u001b[0m \u001b[1;33m>\u001b[0m \u001b[1;36m1\u001b[0m\u001b[1;33m:\u001b[0m\u001b[1;33m\u001b[0m\u001b[0m\n\u001b[0;32m    203\u001b[0m         raise ValueError(\"Found input variables with inconsistent numbers of\"\n\u001b[1;32m--> 204\u001b[1;33m                          \" samples: %r\" % [int(l) for l in lengths])\n\u001b[0m\u001b[0;32m    205\u001b[0m \u001b[1;33m\u001b[0m\u001b[0m\n\u001b[0;32m    206\u001b[0m \u001b[1;33m\u001b[0m\u001b[0m\n",
      "\u001b[1;31mValueError\u001b[0m: Found input variables with inconsistent numbers of samples: [2, 128]"
     ]
    }
   ],
   "source": [
    "norm_val = 1\n",
    "\n",
    "LR_mod_l1 = LogisticRegression(C=norm_val,penalty='l1',tol=0.01)\n",
    "LR_mod_l1.fit(train_data,train_labels)\n",
    "LR_mod_l1_coeff = LR_mod_l1.coef_.ravel()\n",
    "sparsity_LR_l1 = np.mean(LR_mod_l1_coeff == 0) * 100\n",
    "print(\"C=%.2f\" % norm_val)\n",
    "print(\"Sparsity with L1 penalty: %.2f%%\" % sparsity_LR_l1)\n",
    "print(\"train score with L1 penalty: %.4f\" % LR_mod_l1.score(train_data,train_labels))\n",
    "print(\"test score with L1 penalty: %.4f\" % LR_mod_l1.score(test_data,test_labels))\n",
    "\n",
    "\n",
    "LR_mod_l2 = LogisticRegression(C=norm_val,penalty='l2',tol=0.01)\n",
    "LR_mod_l2.fit(train_data,train_labels)\n",
    "LR_mod_l2_coeff = LR_mod_l2.coef_.ravel()\n",
    "sparsity_LR_l2 = np.mean(LR_mod_l2_coeff == 0) * 100\n",
    "print(\"C=%.2f\" % norm_val)\n",
    "print(\"Sparsity with L2 penalty: %.2f%%\" % sparsity_LR_l2)\n",
    "print(\"train score with L2 penalty: %.4f\" % LR_mod_l2.score(train_data_stack_average,train_labels_stack))\n",
    "print(\"test score with L1 penalty: %.4f\" % LR_mod_l1.score(test_data_stack_average,test_labels_stack))\n",
    "\n",
    "\n",
    "plt.figure()\n",
    "plt.imshow(np.abs(LR_mod_l1_coeff.reshape(1, 12)), interpolation='nearest',\n",
    "               cmap='binary', vmax=1, vmin=0)\n",
    "plt.figure()\n",
    "plt.imshow(np.abs(LR_mod_l2_coeff.reshape(1, 12)), interpolation='nearest',\n",
    "               cmap='binary', vmax=1, vmin=0)"
   ]
  },
  {
   "cell_type": "code",
   "execution_count": 67,
   "metadata": {},
   "outputs": [
    {
     "name": "stdout",
     "output_type": "stream",
     "text": [
      "train score 0.8645833333333334\n",
      "test score 0.8701149425287357\n"
     ]
    }
   ],
   "source": [
    "svm_mod = svm.SVC(kernel='rbf')\n",
    "svm_mod.fit(train_data,train_labels)\n",
    "svm_train_score = svm_mod.score(train_data,train_labels)\n",
    "svm_test_score = svm_mod.score(test_data,test_labels)\n",
    "print('train score {}'.format(svm_train_score))\n",
    "print('test score {}'.format(svm_test_score))"
   ]
  },
  {
   "cell_type": "markdown",
   "metadata": {},
   "source": [
    "### raw signal"
   ]
  },
  {
   "cell_type": "code",
   "execution_count": 315,
   "metadata": {
    "collapsed": true
   },
   "outputs": [],
   "source": [
    "labels_data = list(f['data'].keys())\n",
    "signal_mat = np.array([f['data'][interest][:] for interest in labels_data])"
   ]
  },
  {
   "cell_type": "code",
   "execution_count": 316,
   "metadata": {
    "scrolled": true
   },
   "outputs": [
    {
     "data": {
      "text/plain": [
       "(3, 106, 312000)"
      ]
     },
     "execution_count": 316,
     "metadata": {},
     "output_type": "execute_result"
    }
   ],
   "source": [
    "signal_mat.shape"
   ]
  },
  {
   "cell_type": "code",
   "execution_count": 317,
   "metadata": {},
   "outputs": [
    {
     "data": {
      "text/plain": [
       "[<matplotlib.lines.Line2D at 0x1bd1812b0f0>]"
      ]
     },
     "execution_count": 317,
     "metadata": {},
     "output_type": "execute_result"
    },
    {
     "data": {
      "image/png": "[encoded data removed]",
      "text/plain": [
       "<matplotlib.figure.Figure at 0x1bd19293588>"
      ]
     },
     "metadata": {},
     "output_type": "display_data"
    }
   ],
   "source": [
    "plt.figure()\n",
    "trial = 1\n",
    "channel = 60\n",
    "\n",
    "plt.plot(np.squeeze(signal_mat[trial][channel][50000:54000]))\n",
    "plt.plot(np.squeeze(signal_mat[trial][channel+1][50000:54000]))\n",
    "plt.plot(np.squeeze(signal_mat[trial][channel+3][50000:54000]))\n",
    "plt.plot(np.squeeze(signal_mat[trial][channel+5][50000:54000]))\n",
    "plt.plot(np.squeeze(signal_mat[trial][channel+10][50000:54000]))"
   ]
  },
  {
   "cell_type": "code",
   "execution_count": null,
   "metadata": {
    "collapsed": true
   },
   "outputs": [],
   "source": [
    "#https://github.com/emanuele/convert_matlab73_hdf5"
   ]
  },
  {
   "cell_type": "code",
   "execution_count": null,
   "metadata": {
    "collapsed": true
   },
   "outputs": [],
   "source": [
    "seizure_electrodes = [\n",
    "[1,2,3,4,5,1,4,3], # not done at all, montage issue\n",
    "[7,8,15,16,29,30,34,35,44,45,54,55,63,64,65], # done \n",
    "    [33, 41, 47, 48, 49, 50, 51, 53, 54, 55, 56, 57, 58, 59, 62, 63, 64], # NOT done, but done on grid\n",
    "[8,16,24], # NOT done, but done on grid\n",
    "[70,74,75,76,77,86,87,92,93,94], # done \n",
    "[17,18,25,26,27,28,29,35,36,37,74,82],# done\n",
    "[20,21,28,29,36,68], # maybe done \n",
    "[13, 21, 43, 44, 50, 53] # not DONE, but done on grid\n",
    "]"
   ]
  },
  {
   "cell_type": "code",
   "execution_count": null,
   "metadata": {
    "collapsed": true
   },
   "outputs": [],
   "source": [
    "np.array(seizure_electrodes[1])-1"
   ]
  },
  {
   "cell_type": "code",
   "execution_count": null,
   "metadata": {
    "collapsed": true
   },
   "outputs": [],
   "source": []
  },
  {
   "cell_type": "code",
   "execution_count": null,
   "metadata": {
    "collapsed": true
   },
   "outputs": [],
   "source": [
    "len(seizure_electrodes)"
   ]
  },
  {
   "cell_type": "markdown",
   "metadata": {},
   "source": [
    "### scratch section"
   ]
  },
  {
   "cell_type": "code",
   "execution_count": null,
   "metadata": {
    "collapsed": true
   },
   "outputs": [],
   "source": [
    "# implement the gradient method \n",
    "def gradient_method(X,y,X_test,y_test,lambda_val):\n",
    "    not_conv = True\n",
    "    j_train_vec = []\n",
    "    j_test_vec = []\n",
    "    w_vec = []\n",
    "    b_vec = []\n",
    "    k_vec = []\n",
    "    train_classify_vec = []\n",
    "    test_classify_vec = []\n",
    "\n",
    "    k = 0\n",
    "    #step_size = 1e-3\n",
    "    #step_size = 3e-2\n",
    "    step_size = 1e-3\n",
    "    criteria_conv = 0.000004\n",
    "\n",
    "    \n",
    "    # do one run through first after being initialized to zero \n",
    "    w = np.zeros((np.shape(X)[1],))\n",
    "    b = 0\n",
    "\n",
    "    n = np.shape(X)[0]\n",
    "    n_features = np.shape(X)[1]\n",
    "    n_test = np.shape(X_test)[0]\n",
    "    \n",
    "    cost_mu = 1+np.exp(-y*(b+np.dot(X,w))) \n",
    "    \n",
    "    # calculate cost function on training\n",
    "    j_train = (1/n)*(np.sum(np.log(cost_mu))) + lambda_val*np.dot(w.T,w)\n",
    "    print('the value of j train is {}'.format(j_train))\n",
    "\n",
    "    ####### testing part\n",
    "    cost_mu_test = 1+np.exp(-y_test*(b+np.dot(X_test,w)))\n",
    "\n",
    "    j_test = (1/n_test)*(np.sum(np.log(cost_mu_test))) + lambda_val*np.dot(w.T,w)\n",
    "\n",
    "    k_vec.append(k)\n",
    "    j_train_vec.append(j_train)\n",
    "    j_test_vec.append(j_test)\n",
    "\n",
    "    ###       \n",
    "    w_vec.append(w)\n",
    "    b_vec.append(b)\n",
    "\n",
    "    #### classification\n",
    "    train_signed = (b+np.dot(X,w))\n",
    "    test_signed = (b+np.dot(X_test,w))\n",
    "\n",
    "    train_data_class = np.sign(train_signed)\n",
    "    test_data_class = np.sign(test_signed)\n",
    "\n",
    "    train_classify_error_vec = [train_data_class != y]\n",
    "    test_classify_error_vec = [test_data_class != y_test]\n",
    "\n",
    "    train_classify_error = np.sum(train_classify_error_vec)/n\n",
    "    test_classify_error = np.sum(test_classify_error_vec)/n_test\n",
    "\n",
    "    train_classify_vec.append(train_classify_error)\n",
    "    test_classify_vec.append(test_classify_error)\n",
    "    \n",
    "    w_old = copy.copy(w)\n",
    "    b_old = copy.copy(b)\n",
    "    \n",
    "    while not_conv:\n",
    "        ##### training part \n",
    "        #mu_vec = [1/(1+np.exp(-y[i]*(b+np.dot(X[i,:].T,w)))) for i in range_vec]\n",
    "        #cost_mu = [(1+np.exp(-y[i]*(b+np.dot(X[i,:].T,w)))) for i in range_vec]\n",
    "        mu_vec = 1/(1+np.exp(-y.T*(b+np.dot(X,w)))) \n",
    "\n",
    "        #g_w = (1/n)*np.dot(X.T,(mu_vec - y)) + 2*lambda_val*w\n",
    "        #g_b = (1/n)*np.sum(mu_vec-y)\n",
    "\n",
    "        g_w = (1/n)*(np.dot(X.T,(-y*(1-mu_vec)))) + 2*lambda_val*w\n",
    "        g_b = (1/n)*np.sum(-y*(1-mu_vec))\n",
    "\n",
    "        # \n",
    "        w = w_old - step_size*g_w\n",
    "        b = b_old - step_size*g_b\n",
    "\n",
    "        w_vec.append(w)\n",
    "        b_vec.append(b)\n",
    "        \n",
    "        cost_mu = 1+np.exp(-y*(b+np.dot(X,w)))\n",
    "        j_train = (1/n)*(np.sum(np.log(cost_mu))) + lambda_val*np.dot(w.T,w)\n",
    "        ####### testing part\n",
    "\n",
    "        mu_vec = 1/(1+np.exp(-y_test*(b+np.dot(X_test,w)))) \n",
    "        cost_mu = 1+np.exp(-y_test.T*(b+np.dot(X_test,w)))\n",
    "\n",
    "        j_test = (1/n_test)*(np.sum(np.log(cost_mu))) + lambda_val*np.dot(w.T,w)\n",
    "\n",
    "        k_vec.append(k)\n",
    "        j_train_vec.append(j_train)\n",
    "        j_test_vec.append(j_test)\n",
    "\n",
    "        #### classification\n",
    "        train_signed = (b+np.dot(X,w))\n",
    "        test_signed = (b+np.dot(X_test,w))\n",
    "\n",
    "        train_data_class = np.sign(train_signed)\n",
    "        test_data_class = np.sign(test_signed)\n",
    "\n",
    "        train_classify_error_vec = [train_data_class != y]\n",
    "        test_classify_error_vec = [test_data_class != y_test]\n",
    "\n",
    "        train_classify_error = np.sum(train_classify_error_vec)/n\n",
    "        test_classify_error = np.sum(test_classify_error_vec)/n_test\n",
    "\n",
    "        train_classify_vec.append(train_classify_error)\n",
    "        test_classify_vec.append(test_classify_error)\n",
    "        \n",
    "        delta_w = np.abs(w-w_old)\n",
    "        delta_b = np.abs(b-b_old)\n",
    "        \n",
    "        #w = np.array(w)\n",
    "        w_old = copy.copy(w)\n",
    "        b_old = copy.copy(b)\n",
    "\n",
    "        # check convergence\n",
    "        if ((1/n_features)*np.sum(delta_w))<criteria_conv and k>1:\n",
    "            not_conv = False\n",
    "\n",
    "        else:\n",
    "            not_conv = True\n",
    "            k += 1\n",
    "\n",
    "        print('the value of j train is {}'.format(j_train))\n",
    "\n",
    "    return j_train_vec,j_test_vec,w_vec,b_vec,k_vec,test_classify_vec,train_classify_vec\n",
    "\n",
    "# plot the cost fucntion and misclassification error \n",
    "def plot_objective_train_test(k_vec,j_train_vec,j_test_vec,train_classify_vec,test_classify_vec,titl_1):\n",
    "    \n",
    "    # plot the cost function vs. iteration\n",
    "    plt.figure(figsize=(4, 4), dpi=600)\n",
    "    plt.plot(k_vec[10:],j_train_vec[10:],label='training')\n",
    "    plt.plot(k_vec[10:],j_test_vec[10:],label='testing')\n",
    "    plt.xlabel('iteration number')\n",
    "    plt.ylabel('cost function')\n",
    "    plt.title(titl_1 + 'Cost function vs. iteration')\n",
    "    plt.legend()\n",
    "    index = np.argmin(j_train_vec)\n",
    "    k_best = k_vec[index]\n",
    "    w_best = w_vec[index]\n",
    "    titl_1_save = titl_1[:-2]\n",
    "    titl_1_save = titl_1_save.replace(\" \",\"_\")\n",
    "    #plt.savefig(titl_1_save + 'cost_func')\n",
    "\n",
    "    # plot the misclassification error vs. iteration \n",
    "    plt.figure(figsize=(4, 4), dpi=600)\n",
    "    plt.plot(k_vec[10:],train_classify_vec[10:],label='training data')\n",
    "    plt.plot(k_vec[10:],test_classify_vec[10:],label='test data')\n",
    "    plt.xlabel('iteration number')\n",
    "    plt.ylabel('misclassification error')\n",
    "    plt.title(titl_1 + 'Misclassification error vs. iteration number')\n",
    "    plt.legend()\n",
    "    #plt.savefig(titl_1_save + 'mis_class_error')\n"
   ]
  },
  {
   "cell_type": "code",
   "execution_count": null,
   "metadata": {
    "collapsed": true,
    "scrolled": true
   },
   "outputs": [],
   "source": [
    "lambda_val = 10**-1\n",
    "j_train_vec,j_test_vec,w_vec,b_vec,k_vec,test_classify_vec,train_classify_vec = gradient_method(train_data_stack,train_labels_stack,test_data_stack,test_labels_stack,lambda_val)"
   ]
  },
  {
   "cell_type": "code",
   "execution_count": null,
   "metadata": {
    "collapsed": true
   },
   "outputs": [],
   "source": [
    "j_test_vec"
   ]
  },
  {
   "cell_type": "code",
   "execution_count": null,
   "metadata": {
    "collapsed": true
   },
   "outputs": [],
   "source": [
    "plot_objective_train_test(k_vec,j_train_vec,j_test_vec,train_classify_vec,test_classify_vec,'Gradient Descent - \\n')"
   ]
  },
  {
   "cell_type": "code",
   "execution_count": null,
   "metadata": {
    "collapsed": true
   },
   "outputs": [],
   "source": [
    "w_vec[-1]\n",
    "plt.plot(w_vec[-1],'o')"
   ]
  }
 ],
 "metadata": {
  "kernelspec": {
   "display_name": "Python [default]",
   "language": "python",
   "name": "python3"
  },
  "language_info": {
   "codemirror_mode": {
    "name": "ipython",
    "version": 3
   },
   "file_extension": ".py",
   "mimetype": "text/x-python",
   "name": "python",
   "nbconvert_exporter": "python",
   "pygments_lexer": "ipython3",
   "version": "3.5.4"
  }
 },
 "nbformat": 4,
 "nbformat_minor": 2
}
